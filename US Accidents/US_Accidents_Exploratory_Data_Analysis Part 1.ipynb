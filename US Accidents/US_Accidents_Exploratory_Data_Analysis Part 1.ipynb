{
 "cells": [
  {
   "cell_type": "markdown",
   "id": "0a10b060",
   "metadata": {},
   "source": [
    "# US_Accidents_Exploratory_Data_Analysis"
   ]
  },
  {
   "cell_type": "markdown",
   "id": "57a6f3fc",
   "metadata": {},
   "source": [
    "### Steps to follow\n",
    "- Select a large real_world (more then 2.5M Records) dataset from kaggle\n",
    "- Perform data preparation & cleaning using Pandas & Numpy\n",
    "- Perform exploratory analysis & visualization using Matplotlib & Seaborn\n",
    "- Ask & answer questions about the data in a jupyter notebook\n",
    "- Summarize your inferences & write a conclusion\n"
   ]
  },
  {
   "cell_type": "markdown",
   "id": "be3fa0a8",
   "metadata": {},
   "source": [
    "## Questions to ask from this dataset\n",
    "- 1) Which 5 states have the highest number of accidents?\n",
    "- 2) Top 100 cities in number of accidents\n",
    "- 3) What time of the day are accidents most frequent in ?\n",
    "- 4) Which days of the week have the most accidents ?\n",
    "- 5) Which months have the most accidents?\n",
    "- 6) What is the trend of accidents year over year (decreasing/increasing) ?"
   ]
  },
  {
   "cell_type": "markdown",
   "id": "66dde57c",
   "metadata": {},
   "source": [
    "### Data Preparation and Cleaning\n",
    "\n",
    "- Load the file using Pandas\n",
    "- Look at some information about the data & the columns\n",
    "- Fix any missing or incorrect values"
   ]
  },
  {
   "cell_type": "markdown",
   "id": "189cf0e5",
   "metadata": {},
   "source": [
    "###  Import required libraries"
   ]
  },
  {
   "cell_type": "code",
   "execution_count": 1,
   "id": "7ac94823",
   "metadata": {},
   "outputs": [],
   "source": [
    "import pandas as pd\n",
    "import seaborn as sns\n",
    "import matplotlib.pyplot as plt"
   ]
  },
  {
   "cell_type": "code",
   "execution_count": 2,
   "id": "0366921d",
   "metadata": {},
   "outputs": [],
   "source": [
    "df= pd.read_csv(r\"G:\\Udemy\\DATA SCIENCE ineuron\\EDA\\US_Accidents_Dec21_updated.csv\")"
   ]
  },
  {
   "cell_type": "code",
   "execution_count": 3,
   "id": "1863283a",
   "metadata": {},
   "outputs": [
    {
     "data": {
      "text/html": [
       "<div>\n",
       "<style scoped>\n",
       "    .dataframe tbody tr th:only-of-type {\n",
       "        vertical-align: middle;\n",
       "    }\n",
       "\n",
       "    .dataframe tbody tr th {\n",
       "        vertical-align: top;\n",
       "    }\n",
       "\n",
       "    .dataframe thead th {\n",
       "        text-align: right;\n",
       "    }\n",
       "</style>\n",
       "<table border=\"1\" class=\"dataframe\">\n",
       "  <thead>\n",
       "    <tr style=\"text-align: right;\">\n",
       "      <th></th>\n",
       "      <th>ID</th>\n",
       "      <th>Severity</th>\n",
       "      <th>Start_Time</th>\n",
       "      <th>End_Time</th>\n",
       "      <th>Start_Lat</th>\n",
       "      <th>Start_Lng</th>\n",
       "      <th>End_Lat</th>\n",
       "      <th>End_Lng</th>\n",
       "      <th>Distance(mi)</th>\n",
       "      <th>Description</th>\n",
       "      <th>...</th>\n",
       "      <th>Roundabout</th>\n",
       "      <th>Station</th>\n",
       "      <th>Stop</th>\n",
       "      <th>Traffic_Calming</th>\n",
       "      <th>Traffic_Signal</th>\n",
       "      <th>Turning_Loop</th>\n",
       "      <th>Sunrise_Sunset</th>\n",
       "      <th>Civil_Twilight</th>\n",
       "      <th>Nautical_Twilight</th>\n",
       "      <th>Astronomical_Twilight</th>\n",
       "    </tr>\n",
       "  </thead>\n",
       "  <tbody>\n",
       "    <tr>\n",
       "      <th>0</th>\n",
       "      <td>A-1</td>\n",
       "      <td>3</td>\n",
       "      <td>2016-02-08 00:37:08</td>\n",
       "      <td>2016-02-08 06:37:08</td>\n",
       "      <td>40.108910</td>\n",
       "      <td>-83.092860</td>\n",
       "      <td>40.112060</td>\n",
       "      <td>-83.031870</td>\n",
       "      <td>3.230</td>\n",
       "      <td>Between Sawmill Rd/Exit 20 and OH-315/Olentang...</td>\n",
       "      <td>...</td>\n",
       "      <td>False</td>\n",
       "      <td>False</td>\n",
       "      <td>False</td>\n",
       "      <td>False</td>\n",
       "      <td>False</td>\n",
       "      <td>False</td>\n",
       "      <td>Night</td>\n",
       "      <td>Night</td>\n",
       "      <td>Night</td>\n",
       "      <td>Night</td>\n",
       "    </tr>\n",
       "    <tr>\n",
       "      <th>1</th>\n",
       "      <td>A-2</td>\n",
       "      <td>2</td>\n",
       "      <td>2016-02-08 05:56:20</td>\n",
       "      <td>2016-02-08 11:56:20</td>\n",
       "      <td>39.865420</td>\n",
       "      <td>-84.062800</td>\n",
       "      <td>39.865010</td>\n",
       "      <td>-84.048730</td>\n",
       "      <td>0.747</td>\n",
       "      <td>At OH-4/OH-235/Exit 41 - Accident.</td>\n",
       "      <td>...</td>\n",
       "      <td>False</td>\n",
       "      <td>False</td>\n",
       "      <td>False</td>\n",
       "      <td>False</td>\n",
       "      <td>False</td>\n",
       "      <td>False</td>\n",
       "      <td>Night</td>\n",
       "      <td>Night</td>\n",
       "      <td>Night</td>\n",
       "      <td>Night</td>\n",
       "    </tr>\n",
       "    <tr>\n",
       "      <th>2</th>\n",
       "      <td>A-3</td>\n",
       "      <td>2</td>\n",
       "      <td>2016-02-08 06:15:39</td>\n",
       "      <td>2016-02-08 12:15:39</td>\n",
       "      <td>39.102660</td>\n",
       "      <td>-84.524680</td>\n",
       "      <td>39.102090</td>\n",
       "      <td>-84.523960</td>\n",
       "      <td>0.055</td>\n",
       "      <td>At I-71/US-50/Exit 1 - Accident.</td>\n",
       "      <td>...</td>\n",
       "      <td>False</td>\n",
       "      <td>False</td>\n",
       "      <td>False</td>\n",
       "      <td>False</td>\n",
       "      <td>False</td>\n",
       "      <td>False</td>\n",
       "      <td>Night</td>\n",
       "      <td>Night</td>\n",
       "      <td>Night</td>\n",
       "      <td>Day</td>\n",
       "    </tr>\n",
       "    <tr>\n",
       "      <th>3</th>\n",
       "      <td>A-4</td>\n",
       "      <td>2</td>\n",
       "      <td>2016-02-08 06:51:45</td>\n",
       "      <td>2016-02-08 12:51:45</td>\n",
       "      <td>41.062130</td>\n",
       "      <td>-81.537840</td>\n",
       "      <td>41.062170</td>\n",
       "      <td>-81.535470</td>\n",
       "      <td>0.123</td>\n",
       "      <td>At Dart Ave/Exit 21 - Accident.</td>\n",
       "      <td>...</td>\n",
       "      <td>False</td>\n",
       "      <td>False</td>\n",
       "      <td>False</td>\n",
       "      <td>False</td>\n",
       "      <td>False</td>\n",
       "      <td>False</td>\n",
       "      <td>Night</td>\n",
       "      <td>Night</td>\n",
       "      <td>Day</td>\n",
       "      <td>Day</td>\n",
       "    </tr>\n",
       "    <tr>\n",
       "      <th>4</th>\n",
       "      <td>A-5</td>\n",
       "      <td>3</td>\n",
       "      <td>2016-02-08 07:53:43</td>\n",
       "      <td>2016-02-08 13:53:43</td>\n",
       "      <td>39.172393</td>\n",
       "      <td>-84.492792</td>\n",
       "      <td>39.170476</td>\n",
       "      <td>-84.501798</td>\n",
       "      <td>0.500</td>\n",
       "      <td>At Mitchell Ave/Exit 6 - Accident.</td>\n",
       "      <td>...</td>\n",
       "      <td>False</td>\n",
       "      <td>False</td>\n",
       "      <td>False</td>\n",
       "      <td>False</td>\n",
       "      <td>False</td>\n",
       "      <td>False</td>\n",
       "      <td>Day</td>\n",
       "      <td>Day</td>\n",
       "      <td>Day</td>\n",
       "      <td>Day</td>\n",
       "    </tr>\n",
       "  </tbody>\n",
       "</table>\n",
       "<p>5 rows × 47 columns</p>\n",
       "</div>"
      ],
      "text/plain": [
       "    ID  Severity           Start_Time             End_Time  Start_Lat  \\\n",
       "0  A-1         3  2016-02-08 00:37:08  2016-02-08 06:37:08  40.108910   \n",
       "1  A-2         2  2016-02-08 05:56:20  2016-02-08 11:56:20  39.865420   \n",
       "2  A-3         2  2016-02-08 06:15:39  2016-02-08 12:15:39  39.102660   \n",
       "3  A-4         2  2016-02-08 06:51:45  2016-02-08 12:51:45  41.062130   \n",
       "4  A-5         3  2016-02-08 07:53:43  2016-02-08 13:53:43  39.172393   \n",
       "\n",
       "   Start_Lng    End_Lat    End_Lng  Distance(mi)  \\\n",
       "0 -83.092860  40.112060 -83.031870         3.230   \n",
       "1 -84.062800  39.865010 -84.048730         0.747   \n",
       "2 -84.524680  39.102090 -84.523960         0.055   \n",
       "3 -81.537840  41.062170 -81.535470         0.123   \n",
       "4 -84.492792  39.170476 -84.501798         0.500   \n",
       "\n",
       "                                         Description  ...  Roundabout Station  \\\n",
       "0  Between Sawmill Rd/Exit 20 and OH-315/Olentang...  ...       False   False   \n",
       "1                 At OH-4/OH-235/Exit 41 - Accident.  ...       False   False   \n",
       "2                   At I-71/US-50/Exit 1 - Accident.  ...       False   False   \n",
       "3                    At Dart Ave/Exit 21 - Accident.  ...       False   False   \n",
       "4                 At Mitchell Ave/Exit 6 - Accident.  ...       False   False   \n",
       "\n",
       "    Stop Traffic_Calming Traffic_Signal Turning_Loop Sunrise_Sunset  \\\n",
       "0  False           False          False        False          Night   \n",
       "1  False           False          False        False          Night   \n",
       "2  False           False          False        False          Night   \n",
       "3  False           False          False        False          Night   \n",
       "4  False           False          False        False            Day   \n",
       "\n",
       "  Civil_Twilight Nautical_Twilight Astronomical_Twilight  \n",
       "0          Night             Night                 Night  \n",
       "1          Night             Night                 Night  \n",
       "2          Night             Night                   Day  \n",
       "3          Night               Day                   Day  \n",
       "4            Day               Day                   Day  \n",
       "\n",
       "[5 rows x 47 columns]"
      ]
     },
     "execution_count": 3,
     "metadata": {},
     "output_type": "execute_result"
    }
   ],
   "source": [
    "df.head()"
   ]
  },
  {
   "cell_type": "code",
   "execution_count": 4,
   "id": "1b51e66d",
   "metadata": {},
   "outputs": [
    {
     "data": {
      "text/plain": [
       "(2845342, 47)"
      ]
     },
     "execution_count": 4,
     "metadata": {},
     "output_type": "execute_result"
    }
   ],
   "source": [
    "df.shape"
   ]
  },
  {
   "cell_type": "code",
   "execution_count": 5,
   "id": "2992d7f8",
   "metadata": {},
   "outputs": [
    {
     "data": {
      "text/plain": [
       "47"
      ]
     },
     "execution_count": 5,
     "metadata": {},
     "output_type": "execute_result"
    }
   ],
   "source": [
    "len(df.columns)"
   ]
  },
  {
   "cell_type": "code",
   "execution_count": 6,
   "id": "321135d9",
   "metadata": {},
   "outputs": [
    {
     "name": "stdout",
     "output_type": "stream",
     "text": [
      "<class 'pandas.core.frame.DataFrame'>\n",
      "RangeIndex: 2845342 entries, 0 to 2845341\n",
      "Data columns (total 47 columns):\n",
      " #   Column                 Dtype  \n",
      "---  ------                 -----  \n",
      " 0   ID                     object \n",
      " 1   Severity               int64  \n",
      " 2   Start_Time             object \n",
      " 3   End_Time               object \n",
      " 4   Start_Lat              float64\n",
      " 5   Start_Lng              float64\n",
      " 6   End_Lat                float64\n",
      " 7   End_Lng                float64\n",
      " 8   Distance(mi)           float64\n",
      " 9   Description            object \n",
      " 10  Number                 float64\n",
      " 11  Street                 object \n",
      " 12  Side                   object \n",
      " 13  City                   object \n",
      " 14  County                 object \n",
      " 15  State                  object \n",
      " 16  Zipcode                object \n",
      " 17  Country                object \n",
      " 18  Timezone               object \n",
      " 19  Airport_Code           object \n",
      " 20  Weather_Timestamp      object \n",
      " 21  Temperature(F)         float64\n",
      " 22  Wind_Chill(F)          float64\n",
      " 23  Humidity(%)            float64\n",
      " 24  Pressure(in)           float64\n",
      " 25  Visibility(mi)         float64\n",
      " 26  Wind_Direction         object \n",
      " 27  Wind_Speed(mph)        float64\n",
      " 28  Precipitation(in)      float64\n",
      " 29  Weather_Condition      object \n",
      " 30  Amenity                bool   \n",
      " 31  Bump                   bool   \n",
      " 32  Crossing               bool   \n",
      " 33  Give_Way               bool   \n",
      " 34  Junction               bool   \n",
      " 35  No_Exit                bool   \n",
      " 36  Railway                bool   \n",
      " 37  Roundabout             bool   \n",
      " 38  Station                bool   \n",
      " 39  Stop                   bool   \n",
      " 40  Traffic_Calming        bool   \n",
      " 41  Traffic_Signal         bool   \n",
      " 42  Turning_Loop           bool   \n",
      " 43  Sunrise_Sunset         object \n",
      " 44  Civil_Twilight         object \n",
      " 45  Nautical_Twilight      object \n",
      " 46  Astronomical_Twilight  object \n",
      "dtypes: bool(13), float64(13), int64(1), object(20)\n",
      "memory usage: 773.4+ MB\n"
     ]
    }
   ],
   "source": [
    "df.info()"
   ]
  },
  {
   "cell_type": "code",
   "execution_count": 7,
   "id": "39561b3e",
   "metadata": {},
   "outputs": [
    {
     "data": {
      "text/html": [
       "<div>\n",
       "<style scoped>\n",
       "    .dataframe tbody tr th:only-of-type {\n",
       "        vertical-align: middle;\n",
       "    }\n",
       "\n",
       "    .dataframe tbody tr th {\n",
       "        vertical-align: top;\n",
       "    }\n",
       "\n",
       "    .dataframe thead th {\n",
       "        text-align: right;\n",
       "    }\n",
       "</style>\n",
       "<table border=\"1\" class=\"dataframe\">\n",
       "  <thead>\n",
       "    <tr style=\"text-align: right;\">\n",
       "      <th></th>\n",
       "      <th>count</th>\n",
       "      <th>mean</th>\n",
       "      <th>std</th>\n",
       "      <th>min</th>\n",
       "      <th>25%</th>\n",
       "      <th>50%</th>\n",
       "      <th>75%</th>\n",
       "      <th>max</th>\n",
       "    </tr>\n",
       "  </thead>\n",
       "  <tbody>\n",
       "    <tr>\n",
       "      <th>Severity</th>\n",
       "      <td>2845342.0</td>\n",
       "      <td>2.137572</td>\n",
       "      <td>0.478722</td>\n",
       "      <td>1.000000</td>\n",
       "      <td>2.000000</td>\n",
       "      <td>2.000000</td>\n",
       "      <td>2.000000</td>\n",
       "      <td>4.000000e+00</td>\n",
       "    </tr>\n",
       "    <tr>\n",
       "      <th>Start_Lat</th>\n",
       "      <td>2845342.0</td>\n",
       "      <td>36.245201</td>\n",
       "      <td>5.363797</td>\n",
       "      <td>24.566027</td>\n",
       "      <td>33.445174</td>\n",
       "      <td>36.098609</td>\n",
       "      <td>40.160243</td>\n",
       "      <td>4.900058e+01</td>\n",
       "    </tr>\n",
       "    <tr>\n",
       "      <th>Start_Lng</th>\n",
       "      <td>2845342.0</td>\n",
       "      <td>-97.114633</td>\n",
       "      <td>18.317819</td>\n",
       "      <td>-124.548074</td>\n",
       "      <td>-118.033113</td>\n",
       "      <td>-92.418076</td>\n",
       "      <td>-80.372431</td>\n",
       "      <td>-6.711317e+01</td>\n",
       "    </tr>\n",
       "    <tr>\n",
       "      <th>End_Lat</th>\n",
       "      <td>2845342.0</td>\n",
       "      <td>36.245321</td>\n",
       "      <td>5.363873</td>\n",
       "      <td>24.566013</td>\n",
       "      <td>33.446278</td>\n",
       "      <td>36.097987</td>\n",
       "      <td>40.161049</td>\n",
       "      <td>4.907500e+01</td>\n",
       "    </tr>\n",
       "    <tr>\n",
       "      <th>End_Lng</th>\n",
       "      <td>2845342.0</td>\n",
       "      <td>-97.114387</td>\n",
       "      <td>18.317632</td>\n",
       "      <td>-124.545748</td>\n",
       "      <td>-118.033331</td>\n",
       "      <td>-92.417718</td>\n",
       "      <td>-80.373383</td>\n",
       "      <td>-6.710924e+01</td>\n",
       "    </tr>\n",
       "    <tr>\n",
       "      <th>Distance(mi)</th>\n",
       "      <td>2845342.0</td>\n",
       "      <td>0.702678</td>\n",
       "      <td>1.560361</td>\n",
       "      <td>0.000000</td>\n",
       "      <td>0.052000</td>\n",
       "      <td>0.244000</td>\n",
       "      <td>0.764000</td>\n",
       "      <td>1.551860e+02</td>\n",
       "    </tr>\n",
       "    <tr>\n",
       "      <th>Number</th>\n",
       "      <td>1101431.0</td>\n",
       "      <td>8089.408114</td>\n",
       "      <td>18360.093995</td>\n",
       "      <td>0.000000</td>\n",
       "      <td>1270.000000</td>\n",
       "      <td>4007.000000</td>\n",
       "      <td>9567.000000</td>\n",
       "      <td>9.999997e+06</td>\n",
       "    </tr>\n",
       "    <tr>\n",
       "      <th>Temperature(F)</th>\n",
       "      <td>2776068.0</td>\n",
       "      <td>61.793556</td>\n",
       "      <td>18.622629</td>\n",
       "      <td>-89.000000</td>\n",
       "      <td>50.000000</td>\n",
       "      <td>64.000000</td>\n",
       "      <td>76.000000</td>\n",
       "      <td>1.960000e+02</td>\n",
       "    </tr>\n",
       "    <tr>\n",
       "      <th>Wind_Chill(F)</th>\n",
       "      <td>2375699.0</td>\n",
       "      <td>59.658231</td>\n",
       "      <td>21.160967</td>\n",
       "      <td>-89.000000</td>\n",
       "      <td>46.000000</td>\n",
       "      <td>63.000000</td>\n",
       "      <td>76.000000</td>\n",
       "      <td>1.960000e+02</td>\n",
       "    </tr>\n",
       "    <tr>\n",
       "      <th>Humidity(%)</th>\n",
       "      <td>2772250.0</td>\n",
       "      <td>64.365452</td>\n",
       "      <td>22.874568</td>\n",
       "      <td>1.000000</td>\n",
       "      <td>48.000000</td>\n",
       "      <td>67.000000</td>\n",
       "      <td>83.000000</td>\n",
       "      <td>1.000000e+02</td>\n",
       "    </tr>\n",
       "    <tr>\n",
       "      <th>Pressure(in)</th>\n",
       "      <td>2786142.0</td>\n",
       "      <td>29.472344</td>\n",
       "      <td>1.045286</td>\n",
       "      <td>0.000000</td>\n",
       "      <td>29.310000</td>\n",
       "      <td>29.820000</td>\n",
       "      <td>30.010000</td>\n",
       "      <td>5.890000e+01</td>\n",
       "    </tr>\n",
       "    <tr>\n",
       "      <th>Visibility(mi)</th>\n",
       "      <td>2774796.0</td>\n",
       "      <td>9.099391</td>\n",
       "      <td>2.717546</td>\n",
       "      <td>0.000000</td>\n",
       "      <td>10.000000</td>\n",
       "      <td>10.000000</td>\n",
       "      <td>10.000000</td>\n",
       "      <td>1.400000e+02</td>\n",
       "    </tr>\n",
       "    <tr>\n",
       "      <th>Wind_Speed(mph)</th>\n",
       "      <td>2687398.0</td>\n",
       "      <td>7.395044</td>\n",
       "      <td>5.527454</td>\n",
       "      <td>0.000000</td>\n",
       "      <td>3.500000</td>\n",
       "      <td>7.000000</td>\n",
       "      <td>10.000000</td>\n",
       "      <td>1.087000e+03</td>\n",
       "    </tr>\n",
       "    <tr>\n",
       "      <th>Precipitation(in)</th>\n",
       "      <td>2295884.0</td>\n",
       "      <td>0.007017</td>\n",
       "      <td>0.093488</td>\n",
       "      <td>0.000000</td>\n",
       "      <td>0.000000</td>\n",
       "      <td>0.000000</td>\n",
       "      <td>0.000000</td>\n",
       "      <td>2.400000e+01</td>\n",
       "    </tr>\n",
       "  </tbody>\n",
       "</table>\n",
       "</div>"
      ],
      "text/plain": [
       "                       count         mean           std         min  \\\n",
       "Severity           2845342.0     2.137572      0.478722    1.000000   \n",
       "Start_Lat          2845342.0    36.245201      5.363797   24.566027   \n",
       "Start_Lng          2845342.0   -97.114633     18.317819 -124.548074   \n",
       "End_Lat            2845342.0    36.245321      5.363873   24.566013   \n",
       "End_Lng            2845342.0   -97.114387     18.317632 -124.545748   \n",
       "Distance(mi)       2845342.0     0.702678      1.560361    0.000000   \n",
       "Number             1101431.0  8089.408114  18360.093995    0.000000   \n",
       "Temperature(F)     2776068.0    61.793556     18.622629  -89.000000   \n",
       "Wind_Chill(F)      2375699.0    59.658231     21.160967  -89.000000   \n",
       "Humidity(%)        2772250.0    64.365452     22.874568    1.000000   \n",
       "Pressure(in)       2786142.0    29.472344      1.045286    0.000000   \n",
       "Visibility(mi)     2774796.0     9.099391      2.717546    0.000000   \n",
       "Wind_Speed(mph)    2687398.0     7.395044      5.527454    0.000000   \n",
       "Precipitation(in)  2295884.0     0.007017      0.093488    0.000000   \n",
       "\n",
       "                           25%          50%          75%           max  \n",
       "Severity              2.000000     2.000000     2.000000  4.000000e+00  \n",
       "Start_Lat            33.445174    36.098609    40.160243  4.900058e+01  \n",
       "Start_Lng          -118.033113   -92.418076   -80.372431 -6.711317e+01  \n",
       "End_Lat              33.446278    36.097987    40.161049  4.907500e+01  \n",
       "End_Lng            -118.033331   -92.417718   -80.373383 -6.710924e+01  \n",
       "Distance(mi)          0.052000     0.244000     0.764000  1.551860e+02  \n",
       "Number             1270.000000  4007.000000  9567.000000  9.999997e+06  \n",
       "Temperature(F)       50.000000    64.000000    76.000000  1.960000e+02  \n",
       "Wind_Chill(F)        46.000000    63.000000    76.000000  1.960000e+02  \n",
       "Humidity(%)          48.000000    67.000000    83.000000  1.000000e+02  \n",
       "Pressure(in)         29.310000    29.820000    30.010000  5.890000e+01  \n",
       "Visibility(mi)       10.000000    10.000000    10.000000  1.400000e+02  \n",
       "Wind_Speed(mph)       3.500000     7.000000    10.000000  1.087000e+03  \n",
       "Precipitation(in)     0.000000     0.000000     0.000000  2.400000e+01  "
      ]
     },
     "execution_count": 7,
     "metadata": {},
     "output_type": "execute_result"
    }
   ],
   "source": [
    "df.describe().T"
   ]
  },
  {
   "cell_type": "code",
   "execution_count": 8,
   "id": "8fea2f2f",
   "metadata": {},
   "outputs": [
    {
     "data": {
      "text/plain": [
       "14"
      ]
     },
     "execution_count": 8,
     "metadata": {},
     "output_type": "execute_result"
    }
   ],
   "source": [
    "# How many numeric columns in the dataset\n",
    "\n",
    "numerics = ['int16', 'int32', 'int64', 'float16', 'float32', 'float64']\n",
    "\n",
    "numeric_df = df.select_dtypes(include=numerics)\n",
    "len(numeric_df.columns)\n"
   ]
  },
  {
   "cell_type": "markdown",
   "id": "075bd8eb",
   "metadata": {},
   "source": [
    "## Find the missing values"
   ]
  },
  {
   "cell_type": "code",
   "execution_count": 9,
   "id": "25e839e0",
   "metadata": {},
   "outputs": [
    {
     "data": {
      "text/plain": [
       "Number               1743911\n",
       "Precipitation(in)     549458\n",
       "Wind_Chill(F)         469643\n",
       "Wind_Speed(mph)       157944\n",
       "Wind_Direction         73775\n",
       "Humidity(%)            73092\n",
       "Weather_Condition      70636\n",
       "Visibility(mi)         70546\n",
       "Temperature(F)         69274\n",
       "Pressure(in)           59200\n",
       "dtype: int64"
      ]
     },
     "execution_count": 9,
     "metadata": {},
     "output_type": "execute_result"
    }
   ],
   "source": [
    "df.isna().sum().sort_values(ascending = False)[:10]"
   ]
  },
  {
   "cell_type": "markdown",
   "id": "957afca4",
   "metadata": {},
   "source": [
    "### Percentage of missing values per columns"
   ]
  },
  {
   "cell_type": "code",
   "execution_count": 10,
   "id": "ae6f1aeb",
   "metadata": {},
   "outputs": [
    {
     "data": {
      "text/plain": [
       "Number               0.612900\n",
       "Precipitation(in)    0.193108\n",
       "Wind_Chill(F)        0.165057\n",
       "Wind_Speed(mph)      0.055510\n",
       "Wind_Direction       0.025928\n",
       "Humidity(%)          0.025688\n",
       "Weather_Condition    0.024825\n",
       "Visibility(mi)       0.024794\n",
       "Temperature(F)       0.024346\n",
       "Pressure(in)         0.020806\n",
       "dtype: float64"
      ]
     },
     "execution_count": 10,
     "metadata": {},
     "output_type": "execute_result"
    }
   ],
   "source": [
    "missing_percentage = df.isna().sum().sort_values(ascending = False) / len(df)\n",
    "missing_percentage[:10]"
   ]
  },
  {
   "cell_type": "code",
   "execution_count": 11,
   "id": "30edd211",
   "metadata": {},
   "outputs": [
    {
     "data": {
      "text/plain": [
       "Number                   6.129003e-01\n",
       "Precipitation(in)        1.931079e-01\n",
       "Wind_Chill(F)            1.650568e-01\n",
       "Wind_Speed(mph)          5.550967e-02\n",
       "Wind_Direction           2.592834e-02\n",
       "Humidity(%)              2.568830e-02\n",
       "Weather_Condition        2.482514e-02\n",
       "Visibility(mi)           2.479350e-02\n",
       "Temperature(F)           2.434646e-02\n",
       "Pressure(in)             2.080593e-02\n",
       "Weather_Timestamp        1.783125e-02\n",
       "Airport_Code             3.356011e-03\n",
       "Timezone                 1.285961e-03\n",
       "Nautical_Twilight        1.007612e-03\n",
       "Civil_Twilight           1.007612e-03\n",
       "Sunrise_Sunset           1.007612e-03\n",
       "Astronomical_Twilight    1.007612e-03\n",
       "Zipcode                  4.635647e-04\n",
       "City                     4.814887e-05\n",
       "Street                   7.029032e-07\n",
       "dtype: float64"
      ]
     },
     "execution_count": 11,
     "metadata": {},
     "output_type": "execute_result"
    }
   ],
   "source": [
    "# Shows only those columns which has missing values\n",
    "\n",
    "missing_percentage[missing_percentage !=0]"
   ]
  },
  {
   "cell_type": "code",
   "execution_count": 12,
   "id": "65cf01a0",
   "metadata": {},
   "outputs": [
    {
     "data": {
      "text/plain": [
       "<AxesSubplot:>"
      ]
     },
     "execution_count": 12,
     "metadata": {},
     "output_type": "execute_result"
    },
    {
     "data": {
      "image/png": "[encoded data removed]",
      "text/plain": [
       "<Figure size 1440x1440 with 1 Axes>"
      ]
     },
     "metadata": {
      "needs_background": "light"
     },
     "output_type": "display_data"
    }
   ],
   "source": [
    "missing_percentage[missing_percentage !=0].plot(kind = 'barh', figsize =(20,20))"
   ]
  },
  {
   "cell_type": "markdown",
   "id": "b7938146",
   "metadata": {},
   "source": [
    "### Columns we will analyse\n",
    "1. City\n",
    "2. Start_Time\n",
    "3. Start_Lat, Start_Lng\n",
    "4. Temperature\n",
    "5. Weather_Condition"
   ]
  },
  {
   "cell_type": "code",
   "execution_count": 13,
   "id": "7f87411a",
   "metadata": {},
   "outputs": [
    {
     "data": {
      "text/plain": [
       "11682"
      ]
     },
     "execution_count": 13,
     "metadata": {},
     "output_type": "execute_result"
    }
   ],
   "source": [
    "cities = df.City.unique()\n",
    "len(cities)"
   ]
  },
  {
   "cell_type": "markdown",
   "id": "5e085e26",
   "metadata": {},
   "source": [
    "## Answer of Questions"
   ]
  },
  {
   "cell_type": "markdown",
   "id": "8381fd14",
   "metadata": {},
   "source": [
    "### 1) Which 5 states have the highest number of accidents?"
   ]
  },
  {
   "cell_type": "code",
   "execution_count": 14,
   "id": "06c9e581",
   "metadata": {},
   "outputs": [],
   "source": [
    "states_by_accident = df['State'].value_counts()[:10]"
   ]
  },
  {
   "cell_type": "code",
   "execution_count": 15,
   "id": "2f15501b",
   "metadata": {},
   "outputs": [
    {
     "data": {
      "text/plain": [
       "<AxesSubplot:>"
      ]
     },
     "execution_count": 15,
     "metadata": {},
     "output_type": "execute_result"
    },
    {
     "data": {
      "image/png": "[encoded data removed]",
      "text/plain": [
       "<Figure size 432x288 with 1 Axes>"
      ]
     },
     "metadata": {
      "needs_background": "light"
     },
     "output_type": "display_data"
    }
   ],
   "source": [
    "states_by_accident.plot(kind = 'bar')"
   ]
  },
  {
   "cell_type": "markdown",
   "id": "a73a8f0e",
   "metadata": {},
   "source": [
    "- Observation\n",
    "#### 5 States having the highest number of accidents are"
   ]
  },
  {
   "cell_type": "code",
   "execution_count": 16,
   "id": "1185a6bc",
   "metadata": {},
   "outputs": [
    {
     "data": {
      "text/plain": [
       "CA    795868\n",
       "FL    401388\n",
       "TX    149037\n",
       "OR    126341\n",
       "VA    113535\n",
       "Name: State, dtype: int64"
      ]
     },
     "execution_count": 16,
     "metadata": {},
     "output_type": "execute_result"
    }
   ],
   "source": [
    "df['State'].value_counts()[:5]"
   ]
  },
  {
   "cell_type": "markdown",
   "id": "2a0224bf",
   "metadata": {},
   "source": [
    "###  2) Top 100 cities in number of accidents"
   ]
  },
  {
   "cell_type": "code",
   "execution_count": 17,
   "id": "b5446cd9",
   "metadata": {},
   "outputs": [
    {
     "data": {
      "text/plain": [
       "Miami           106966\n",
       "Los Angeles      68956\n",
       "Orlando          54691\n",
       "Dallas           41979\n",
       "Houston          39448\n",
       "Charlotte        33152\n",
       "Sacramento       32559\n",
       "San Diego        26627\n",
       "Raleigh          22840\n",
       "Minneapolis      22768\n",
       "Portland         20944\n",
       "Nashville        20267\n",
       "Austin           18301\n",
       "Baton Rouge      18182\n",
       "Phoenix          17143\n",
       "Saint Paul       16869\n",
       "New Orleans      16251\n",
       "Atlanta          15622\n",
       "Jacksonville     14967\n",
       "Richmond         14349\n",
       "Name: City, dtype: int64"
      ]
     },
     "execution_count": 17,
     "metadata": {},
     "output_type": "execute_result"
    }
   ],
   "source": [
    "cities_by_accident = df.City.value_counts()\n",
    "cities_by_accident[:20]"
   ]
  },
  {
   "cell_type": "markdown",
   "id": "ef5b192b",
   "metadata": {},
   "source": [
    "### 3) What time of the day are accidents most frequent in ?"
   ]
  },
  {
   "cell_type": "code",
   "execution_count": 18,
   "id": "f8396470",
   "metadata": {},
   "outputs": [
    {
     "data": {
      "text/plain": [
       "'2016-02-08 00:37:08'"
      ]
     },
     "execution_count": 18,
     "metadata": {},
     "output_type": "execute_result"
    }
   ],
   "source": [
    "df.Start_Time[0]"
   ]
  },
  {
   "cell_type": "code",
   "execution_count": 19,
   "id": "dfca3274",
   "metadata": {},
   "outputs": [],
   "source": [
    "df.Start_Time = pd.to_datetime(df.Start_Time)"
   ]
  },
  {
   "cell_type": "code",
   "execution_count": 20,
   "id": "86cbcb9e",
   "metadata": {},
   "outputs": [
    {
     "data": {
      "text/plain": [
       "Int64Index([ 0,  5,  6,  6,  7,  8,  8, 11, 14, 15,\n",
       "            ...\n",
       "            17, 17, 17, 17, 18, 18, 19, 19, 19, 18],\n",
       "           dtype='int64', name='Start_Time', length=2845342)"
      ]
     },
     "execution_count": 20,
     "metadata": {},
     "output_type": "execute_result"
    }
   ],
   "source": [
    "# convert Datetime to hour\n",
    "\n",
    "pd.DatetimeIndex(df['Start_Time']).hour"
   ]
  },
  {
   "cell_type": "code",
   "execution_count": 21,
   "id": "7654ac3d",
   "metadata": {},
   "outputs": [
    {
     "name": "stderr",
     "output_type": "stream",
     "text": [
      "C:\\Users\\SAHILJOSAN\\anaconda3\\lib\\site-packages\\seaborn\\distributions.py:2619: FutureWarning: `distplot` is a deprecated function and will be removed in a future version. Please adapt your code to use either `displot` (a figure-level function with similar flexibility) or `histplot` (an axes-level function for histograms).\n",
      "  warnings.warn(msg, FutureWarning)\n"
     ]
    },
    {
     "data": {
      "text/plain": [
       "<AxesSubplot:xlabel='Start_Time'>"
      ]
     },
     "execution_count": 21,
     "metadata": {},
     "output_type": "execute_result"
    },
    {
     "data": {
      "image/png": "[encoded data removed]",
      "text/plain": [
       "<Figure size 432x288 with 1 Axes>"
      ]
     },
     "metadata": {
      "needs_background": "light"
     },
     "output_type": "display_data"
    }
   ],
   "source": [
    "# Plot Histogram\n",
    "\n",
    "sns.distplot(pd.DatetimeIndex(df['Start_Time']).hour, bins = 24, kde = False, norm_hist= True)"
   ]
  },
  {
   "cell_type": "markdown",
   "id": "ac23434f",
   "metadata": {},
   "source": [
    "## At which time of the day highest accidents occur"
   ]
  },
  {
   "cell_type": "code",
   "execution_count": 22,
   "id": "2d628be4",
   "metadata": {},
   "outputs": [
    {
     "data": {
      "text/plain": [
       "<AxesSubplot:xlabel='Start_Time', ylabel='Count'>"
      ]
     },
     "execution_count": 22,
     "metadata": {},
     "output_type": "execute_result"
    },
    {
     "data": {
      "image/png": "[encoded data removed]",
      "text/plain": [
       "<Figure size 432x288 with 1 Axes>"
      ]
     },
     "metadata": {
      "needs_background": "light"
     },
     "output_type": "display_data"
    }
   ],
   "source": [
    "sns.histplot(data = df, x = pd.DatetimeIndex(df['Start_Time']).hour, bins = 24)"
   ]
  },
  {
   "cell_type": "markdown",
   "id": "3c7f241c",
   "metadata": {},
   "source": [
    "- Observation\n",
    "###  A high number of the accidents occur between 3 pm to 5 pm "
   ]
  },
  {
   "cell_type": "markdown",
   "id": "9f5249e8",
   "metadata": {},
   "source": [
    "## Is the distribution of accidents by hour the same on weekends as on weekdays?"
   ]
  },
  {
   "cell_type": "code",
   "execution_count": 23,
   "id": "c6157447",
   "metadata": {},
   "outputs": [
    {
     "name": "stderr",
     "output_type": "stream",
     "text": [
      "C:\\Users\\SAHILJOSAN\\anaconda3\\lib\\site-packages\\seaborn\\distributions.py:2619: FutureWarning: `distplot` is a deprecated function and will be removed in a future version. Please adapt your code to use either `displot` (a figure-level function with similar flexibility) or `histplot` (an axes-level function for histograms).\n",
      "  warnings.warn(msg, FutureWarning)\n"
     ]
    },
    {
     "data": {
      "text/plain": [
       "<AxesSubplot:xlabel='Start_Time'>"
      ]
     },
     "execution_count": 23,
     "metadata": {},
     "output_type": "execute_result"
    },
    {
     "data": {
      "image/png": "[encoded data removed]",
      "text/plain": [
       "<Figure size 432x288 with 1 Axes>"
      ]
     },
     "metadata": {
      "needs_background": "light"
     },
     "output_type": "display_data"
    }
   ],
   "source": [
    "sns.distplot(df.Start_Time.dt.dayofweek, bins = 7, kde = False, norm_hist= True)"
   ]
  },
  {
   "cell_type": "markdown",
   "id": "255c2be5",
   "metadata": {},
   "source": [
    "- Observation\n",
    "### From the graph it is seen that on weekdays more number of accidents occur compare to weekends"
   ]
  },
  {
   "cell_type": "markdown",
   "id": "ebcb3a4c",
   "metadata": {},
   "source": [
    "###  Over 1110 cities have reported just 1 accident (need to investigate)"
   ]
  },
  {
   "cell_type": "code",
   "execution_count": 24,
   "id": "e4211f85",
   "metadata": {},
   "outputs": [
    {
     "data": {
      "text/plain": [
       "Carney                          1\n",
       "Waverly Hall                    1\n",
       "Center Sandwich                 1\n",
       "Glen Flora                      1\n",
       "Sulphur Springs                 1\n",
       "                               ..\n",
       "Ridgedale                       1\n",
       "Sekiu                           1\n",
       "Wooldridge                      1\n",
       "Bullock                         1\n",
       "American Fork-Pleasant Grove    1\n",
       "Name: City, Length: 1110, dtype: int64"
      ]
     },
     "execution_count": 24,
     "metadata": {},
     "output_type": "execute_result"
    }
   ],
   "source": [
    "cities_by_accident[cities_by_accident == 1]"
   ]
  },
  {
   "cell_type": "markdown",
   "id": "c3a95fa8",
   "metadata": {},
   "source": [
    "## 4) Which days of the week have the most accidents ?"
   ]
  },
  {
   "cell_type": "code",
   "execution_count": 28,
   "id": "c2483625",
   "metadata": {},
   "outputs": [
    {
     "data": {
      "image/png": "[encoded data removed]",
      "text/plain": [
       "<Figure size 720x360 with 1 Axes>"
      ]
     },
     "metadata": {
      "needs_background": "light"
     },
     "output_type": "display_data"
    }
   ],
   "source": [
    "fig = plt.figure(figsize = (10, 5))\n",
    " \n",
    "# creating the bar plot\n",
    "plt.bar(days,list_days_of_the_week, color ='maroon',width = 0.4)\n",
    " \n",
    "plt.xlabel(\"Days of the week\")\n",
    "plt.ylabel(\"Number of accidents\")\n",
    "plt.title(\"Graph showing days of the week have the most accidents\")\n",
    "plt.show()"
   ]
  },
  {
   "cell_type": "markdown",
   "id": "0ef555a4",
   "metadata": {},
   "source": [
    "- Observation\n",
    "### Maximum number of accidents occurs on Fridays "
   ]
  },
  {
   "cell_type": "code",
   "execution_count": 26,
   "id": "16f9b7ee",
   "metadata": {},
   "outputs": [
    {
     "data": {
      "text/plain": [
       "[268929, 280241, 286551, 291495, 307609, 198976, 173510]"
      ]
     },
     "execution_count": 26,
     "metadata": {},
     "output_type": "execute_result"
    }
   ],
   "source": [
    "list_days_of_the_week = []\n",
    "for i in range(0,7):\n",
    "    list_days_of_the_week.append(len(df.Start_Time[df.Start_Time.dt.dayofweek == (i)].unique()))\n",
    "list_days_of_the_week"
   ]
  },
  {
   "cell_type": "code",
   "execution_count": 27,
   "id": "2d306ea2",
   "metadata": {},
   "outputs": [
    {
     "data": {
      "text/plain": [
       "['Monday', 'Tuesday', 'Wednesday', 'Thusday', 'Friday', 'Saturday', 'Sunday']"
      ]
     },
     "execution_count": 27,
     "metadata": {},
     "output_type": "execute_result"
    }
   ],
   "source": [
    "days = [\"Monday\",\"Tuesday\",\"Wednesday\",\"Thusday\",\"Friday\",\"Saturday\",\"Sunday\"]\n",
    "days"
   ]
  },
  {
   "cell_type": "markdown",
   "id": "643be051",
   "metadata": {},
   "source": [
    "## 5) Which months have the most accidents?"
   ]
  },
  {
   "cell_type": "code",
   "execution_count": 29,
   "id": "a5ab6883",
   "metadata": {},
   "outputs": [
    {
     "data": {
      "text/plain": [
       "<AxesSubplot:>"
      ]
     },
     "execution_count": 29,
     "metadata": {},
     "output_type": "execute_result"
    },
    {
     "data": {
      "image/png": "[encoded data removed]",
      "text/plain": [
       "<Figure size 432x288 with 1 Axes>"
      ]
     },
     "metadata": {
      "needs_background": "light"
     },
     "output_type": "display_data"
    }
   ],
   "source": [
    "df.Start_Time.dt.month.value_counts().plot(kind = \"bar\")"
   ]
  },
  {
   "cell_type": "markdown",
   "id": "09fd23ac",
   "metadata": {},
   "source": [
    "### 6) What is the trend of accidents year over year (decreasing/increasing) ?"
   ]
  },
  {
   "cell_type": "code",
   "execution_count": 30,
   "id": "4bf26380",
   "metadata": {
    "scrolled": true
   },
   "outputs": [
    {
     "data": {
      "text/plain": [
       "<AxesSubplot:>"
      ]
     },
     "execution_count": 30,
     "metadata": {},
     "output_type": "execute_result"
    },
    {
     "data": {
      "image/png": "[encoded data removed]",
      "text/plain": [
       "<Figure size 432x288 with 1 Axes>"
      ]
     },
     "metadata": {
      "needs_background": "light"
     },
     "output_type": "display_data"
    }
   ],
   "source": [
    "trend_of_accident = df.Start_Time.dt.year.value_counts()\n",
    "trend_of_accident.plot(kind= \"bar\")"
   ]
  },
  {
   "cell_type": "code",
   "execution_count": 31,
   "id": "ef704c8c",
   "metadata": {},
   "outputs": [
    {
     "data": {
      "text/plain": [
       "2021    1511745\n",
       "2020     625864\n",
       "2019     258615\n",
       "2017     163918\n",
       "2018     163176\n",
       "2016     122024\n",
       "Name: Start_Time, dtype: int64"
      ]
     },
     "execution_count": 31,
     "metadata": {},
     "output_type": "execute_result"
    }
   ],
   "source": [
    "df.Start_Time.dt.year.value_counts()"
   ]
  },
  {
   "cell_type": "markdown",
   "id": "87dd6eec",
   "metadata": {},
   "source": [
    "## Accidents occur in the year 2019"
   ]
  },
  {
   "cell_type": "code",
   "execution_count": 32,
   "id": "45086766",
   "metadata": {},
   "outputs": [
    {
     "name": "stderr",
     "output_type": "stream",
     "text": [
      "C:\\Users\\SAHILJOSAN\\anaconda3\\lib\\site-packages\\seaborn\\distributions.py:2619: FutureWarning: `distplot` is a deprecated function and will be removed in a future version. Please adapt your code to use either `displot` (a figure-level function with similar flexibility) or `histplot` (an axes-level function for histograms).\n",
      "  warnings.warn(msg, FutureWarning)\n"
     ]
    },
    {
     "data": {
      "text/plain": [
       "<AxesSubplot:xlabel='Start_Time'>"
      ]
     },
     "execution_count": 32,
     "metadata": {},
     "output_type": "execute_result"
    },
    {
     "data": {
      "image/png": "[encoded data removed]",
      "text/plain": [
       "<Figure size 432x288 with 1 Axes>"
      ]
     },
     "metadata": {
      "needs_background": "light"
     },
     "output_type": "display_data"
    }
   ],
   "source": [
    "# Data of 2019\n",
    "\n",
    "df_2019 = df[df.Start_Time.dt.year == 2019]\n",
    "sns.distplot(df_2019.Start_Time.dt.month, bins = 12, kde = False, norm_hist = True)"
   ]
  },
  {
   "cell_type": "markdown",
   "id": "d8756cf2",
   "metadata": {},
   "source": [
    "## Accidents occur in the year 2018"
   ]
  },
  {
   "cell_type": "code",
   "execution_count": 33,
   "id": "6820d294",
   "metadata": {},
   "outputs": [
    {
     "data": {
      "text/plain": [
       "<AxesSubplot:xlabel='Start_Time'>"
      ]
     },
     "execution_count": 33,
     "metadata": {},
     "output_type": "execute_result"
    },
    {
     "data": {
      "image/png": "[encoded data removed]",
      "text/plain": [
       "<Figure size 432x288 with 1 Axes>"
      ]
     },
     "metadata": {
      "needs_background": "light"
     },
     "output_type": "display_data"
    }
   ],
   "source": [
    "# Data of 2018\n",
    "\n",
    "df_2018 = df[df.Start_Time.dt.year == 2018]\n",
    "sns.distplot(df_2018.Start_Time.dt.month, bins = 12, kde = False, norm_hist = True)"
   ]
  },
  {
   "cell_type": "markdown",
   "id": "4e9b0713",
   "metadata": {},
   "source": [
    "## Accidents occur in the year 2016"
   ]
  },
  {
   "cell_type": "code",
   "execution_count": 34,
   "id": "44f63120",
   "metadata": {},
   "outputs": [
    {
     "data": {
      "text/plain": [
       "<AxesSubplot:xlabel='Start_Time'>"
      ]
     },
     "execution_count": 34,
     "metadata": {},
     "output_type": "execute_result"
    },
    {
     "data": {
      "image/png": "[encoded data removed]",
      "text/plain": [
       "<Figure size 432x288 with 1 Axes>"
      ]
     },
     "metadata": {
      "needs_background": "light"
     },
     "output_type": "display_data"
    }
   ],
   "source": [
    "# Data of 2016\n",
    "\n",
    "df_2016 = df[df.Start_Time.dt.year == 2016]\n",
    "sns.distplot(df_2016.Start_Time.dt.month, bins = 12, kde = False, norm_hist = True)"
   ]
  },
  {
   "cell_type": "markdown",
   "id": "2041a45b",
   "metadata": {},
   "source": [
    "- Observation\n",
    "### Much Data is missing for 2016. Maybe even 2017"
   ]
  },
  {
   "cell_type": "markdown",
   "id": "57360318",
   "metadata": {},
   "source": [
    "### High Accident Cities and low accident cities"
   ]
  },
  {
   "cell_type": "code",
   "execution_count": 35,
   "id": "71935d68",
   "metadata": {},
   "outputs": [],
   "source": [
    "high_accident_cities = cities_by_accident[cities_by_accident >= 1000]\n",
    "low_accident_cities = cities_by_accident[cities_by_accident < 1000]"
   ]
  },
  {
   "cell_type": "code",
   "execution_count": 36,
   "id": "9f77420b",
   "metadata": {},
   "outputs": [
    {
     "data": {
      "text/plain": [
       "496"
      ]
     },
     "execution_count": 36,
     "metadata": {},
     "output_type": "execute_result"
    }
   ],
   "source": [
    "len(high_accident_cities)"
   ]
  },
  {
   "cell_type": "code",
   "execution_count": 37,
   "id": "7fba03e8",
   "metadata": {},
   "outputs": [
    {
     "data": {
      "text/plain": [
       "<AxesSubplot:xlabel='City', ylabel='Density'>"
      ]
     },
     "execution_count": 37,
     "metadata": {},
     "output_type": "execute_result"
    },
    {
     "data": {
      "image/png": "[encoded data removed]",
      "text/plain": [
       "<Figure size 432x288 with 1 Axes>"
      ]
     },
     "metadata": {
      "needs_background": "light"
     },
     "output_type": "display_data"
    }
   ],
   "source": [
    "sns.distplot(high_accident_cities)"
   ]
  },
  {
   "cell_type": "code",
   "execution_count": 38,
   "id": "a7799b5e",
   "metadata": {},
   "outputs": [
    {
     "data": {
      "text/plain": [
       "<AxesSubplot:xlabel='City', ylabel='Count'>"
      ]
     },
     "execution_count": 38,
     "metadata": {},
     "output_type": "execute_result"
    },
    {
     "data": {
      "image/png": "[encoded data removed]",
      "text/plain": [
       "<Figure size 432x288 with 1 Axes>"
      ]
     },
     "metadata": {
      "needs_background": "light"
     },
     "output_type": "display_data"
    }
   ],
   "source": [
    "sns.histplot(cities_by_accident, log_scale = True)"
   ]
  },
  {
   "cell_type": "markdown",
   "id": "4db15fdd",
   "metadata": {},
   "source": [
    "## Analysis basis on Start Latitude & Longitude"
   ]
  },
  {
   "cell_type": "code",
   "execution_count": 39,
   "id": "4ee42187",
   "metadata": {},
   "outputs": [
    {
     "data": {
      "text/plain": [
       "0    40.108910\n",
       "1    39.865420\n",
       "2    39.102660\n",
       "3    41.062130\n",
       "4    39.172393\n",
       "Name: Start_Lat, dtype: float64"
      ]
     },
     "execution_count": 39,
     "metadata": {},
     "output_type": "execute_result"
    }
   ],
   "source": [
    "df.Start_Lat[:5]"
   ]
  },
  {
   "cell_type": "code",
   "execution_count": 40,
   "id": "0bff97d1",
   "metadata": {},
   "outputs": [
    {
     "data": {
      "text/plain": [
       "0   -83.092860\n",
       "1   -84.062800\n",
       "2   -84.524680\n",
       "3   -81.537840\n",
       "4   -84.492792\n",
       "Name: Start_Lng, dtype: float64"
      ]
     },
     "execution_count": 40,
     "metadata": {},
     "output_type": "execute_result"
    }
   ],
   "source": [
    "df.Start_Lng[:5]"
   ]
  },
  {
   "cell_type": "code",
   "execution_count": null,
   "id": "81314f77",
   "metadata": {},
   "outputs": [],
   "source": []
  }
 ],
 "metadata": {
  "kernelspec": {
   "display_name": "Python 3 (ipykernel)",
   "language": "python",
   "name": "python3"
  },
  "language_info": {
   "codemirror_mode": {
    "name": "ipython",
    "version": 3
   },
   "file_extension": ".py",
   "mimetype": "text/x-python",
   "name": "python",
   "nbconvert_exporter": "python",
   "pygments_lexer": "ipython3",
   "version": "3.9.12"
  }
 },
 "nbformat": 4,
 "nbformat_minor": 5
}
